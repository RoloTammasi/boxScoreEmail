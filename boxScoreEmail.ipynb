{
 "cells": [
  {
   "cell_type": "code",
   "execution_count": 1,
   "metadata": {
    "collapsed": true
   },
   "outputs": [],
   "source": [
    "from datetime import datetime, timedelta\n",
    "from bs4 import BeautifulSoup\n",
    "import requests\n",
    "import smtplib\n",
    "from email.MIMEMultipart import MIMEMultipart\n",
    "from email.MIMEText import MIMEText"
   ]
  },
  {
   "cell_type": "code",
   "execution_count": 11,
   "metadata": {
    "collapsed": true
   },
   "outputs": [],
   "source": [
    "def getData():\n",
    "    \n",
    "    r  = requests.get(url)\n",
    "    data = r.text\n",
    "    return BeautifulSoup(data, \"lxml\")"
   ]
  },
  {
   "cell_type": "code",
   "execution_count": 42,
   "metadata": {
    "collapsed": true
   },
   "outputs": [],
   "source": [
    "def send_email(html):\n",
    "    \n",
    "    FROM = my_email\n",
    "    TO = my_email\n",
    "    \n",
    "    msg = MIMEMultipart('alternative')\n",
    "    msg['Subject'] = my_team + \" Box Score \" + yesterday.strftime(\"%m.%d.%Y\") + \" -\" + headline\n",
    "    msg['From'] = FROM\n",
    "    msg['To'] = TO\n",
    "    \n",
    "    contents = MIMEText(html, 'html')\n",
    "    msg.attach(contents)\n",
    "    \n",
    "    server = smtplib.SMTP('smtp.gmail.com', 587)\n",
    "    server.starttls()\n",
    "    server.login(my_email, my_password)\n",
    "    server.sendmail(FROM, TO, msg.as_string())\n",
    "    server.quit()"
   ]
  },
  {
   "cell_type": "code",
   "execution_count": 44,
   "metadata": {
    "collapsed": true
   },
   "outputs": [],
   "source": [
    "yesterday = datetime.now() - timedelta(1)\n",
    "url = \"https://www.rotowire.com/baseball/scoreboard.htm?d=\" + yesterday.strftime(\"%m%d%Y\")\n",
    "my_team = \"Mets\"\n",
    "my_team_city = \"New York\"\n",
    "\n",
    "f = open(\"email.txt\",\"r\")\n",
    "my_email = f.read()\n",
    "f.close()\n",
    "\n",
    "f = open(\"pw.txt\",\"r\")\n",
    "my_password = f.read()\n",
    "f.close()"
   ]
  },
  {
   "cell_type": "code",
   "execution_count": 48,
   "metadata": {
    "collapsed": false
   },
   "outputs": [],
   "source": [
    "soup = getData()\n",
    "\n",
    "for game in soup.findAll(\"div\", class_=\"offset1 span15 scorebox\"):\n",
    "    for team in game.findAll(\"div\", class_=\"span7 scorebox-teamname\"):\n",
    "        if my_team in team.text:\n",
    "            url = \"https://www.rotowire.com\" + game.a['href']\n",
    "            \n",
    "soup = getData()            \n",
    "\n",
    "try:\n",
    "    boxscore = soup.find(\"div\", class_=\"boxalign\")\n",
    "\n",
    "    # clean up html\n",
    "    boxscore.find(\"ul\", id=\"playerstattab\").decompose()\n",
    "    for image in boxscore.findAll(\"img\"):\n",
    "        image.decompose()\n",
    "\n",
    "    for i in range(5, 20):\n",
    "        boxscore.findAll(\"table\")[5].decompose()\n",
    "\n",
    "    # find headline for subject\n",
    "    for div in boxscore.findAll(\"div\"):\n",
    "        if my_team_city in div.text and \"At\" in div.text:\n",
    "            headline = div.text\n",
    "    \n",
    "    # send email\n",
    "    send_email(\"<html>\\n\" + str(boxscore) + \"\\n</html>\")\n",
    "    \n",
    "except:\n",
    "    pass"
   ]
  },
  {
   "cell_type": "code",
   "execution_count": null,
   "metadata": {
    "collapsed": true
   },
   "outputs": [],
   "source": []
  }
 ],
 "metadata": {
  "anaconda-cloud": {},
  "kernelspec": {
   "display_name": "Python [conda root]",
   "language": "python",
   "name": "conda-root-py"
  },
  "language_info": {
   "codemirror_mode": {
    "name": "ipython",
    "version": 2
   },
   "file_extension": ".py",
   "mimetype": "text/x-python",
   "name": "python",
   "nbconvert_exporter": "python",
   "pygments_lexer": "ipython2",
   "version": "2.7.12"
  }
 },
 "nbformat": 4,
 "nbformat_minor": 1
}
